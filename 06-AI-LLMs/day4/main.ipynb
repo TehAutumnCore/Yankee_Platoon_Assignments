{
 "cells": [
  {
   "cell_type": "code",
   "execution_count": null,
   "metadata": {},
   "outputs": [],
   "source": [
    "import torch\n",
    "from sklearn.preprocessing import StandardScaler\n",
    "from sklearn.model_selection import train_test_split\n",
    "from torch import nn as nn\n",
    "from torch.nn import init as init\n",
    "import pandas as pd\n",
    "\n",
    "\n",
    "print(torch.__version__)"
   ]
  },
  {
   "cell_type": "markdown",
   "metadata": {},
   "source": [
    "# Training the Model"
   ]
  },
  {
   "cell_type": "code",
   "execution_count": null,
   "metadata": {},
   "outputs": [],
   "source": [
    "class BinaryModel(nn.Module):\n",
    "    def __init__(self):\n",
    "        super(BinaryModel, self).__init__()\n",
    "        self.layer1 = nn.Linear(9,18)\n",
    "        self.layer2 = nn.Linear(18,12)\n",
    "        self.layer3 = nn.Linear(12,6)\n",
    "        self.layer4 = nn.Linear(6,1)\n",
    "        self.sigmoid = nn.sigmoid()\n",
    "\n",
    "    def forward(self,x):\n",
    "        x = self.layer1(x)\n",
    "        x = self.layer2(x)\n",
    "        x = self.layer3(x)\n",
    "        x = self.layer4(x)\n",
    "        return self.sigmoid(x)\n",
    "\n",
    "model = BinaryModel()"
   ]
  },
  {
   "cell_type": "code",
   "execution_count": null,
   "metadata": {},
   "outputs": [],
   "source": [
    "for layer in mode.modules():\n",
    "    if isinstance(layer, nn.Linear):\n",
    "        init.xavier_uniform_(layer.weight)\n",
    "        init.zeros_(layer.bias)"
   ]
  },
  {
   "cell_type": "markdown",
   "metadata": {},
   "source": [
    "## Prepping Data"
   ]
  },
  {
   "cell_type": "code",
   "execution_count": null,
   "metadata": {},
   "outputs": [],
   "source": [
    "#reads from the csv file\n",
    "df = pd.read_csv(\"./water_potability.csv\")\n",
    "#fills in null values within the data frame with the mean of the appropriate column\n",
    "df.fillna(df.mean(),inplace=True)\n",
    "df.isnull().sum()"
   ]
  },
  {
   "cell_type": "code",
   "execution_count": null,
   "metadata": {},
   "outputs": [],
   "source": [
    "#Features What we're feeding\n",
    "features = df.drop(\"Potability\", axis=1)\n",
    "#Label is the \"truth\", What we're looking for\n",
    "labels = df['Potability']"
   ]
  },
  {
   "cell_type": "code",
   "execution_count": null,
   "metadata": {},
   "outputs": [],
   "source": [
    "### standardize and normalize Features"
   ]
  },
  {
   "cell_type": "code",
   "execution_count": null,
   "metadata": {},
   "outputs": [],
   "source": [
    "from sklearn.preprocessing import StandardScaler\n",
    "scaler = StandardScaler()\n",
    "standardized_features = scaler.fit_transform(features)\n",
    "standardized_features[:3]"
   ]
  },
  {
   "cell_type": "code",
   "execution_count": null,
   "metadata": {},
   "outputs": [],
   "source": [
    "train_test_split(standardized_features, labels, test_size=0.8, random_state=42)"
   ]
  },
  {
   "cell_type": "code",
   "execution_count": null,
   "metadata": {},
   "outputs": [],
   "source": [
    "training_f, testing_f, training_l, testing_l = train_test_split(standardize_features, labels, test_size=0.2)"
   ]
  },
  {
   "cell_type": "code",
   "execution_count": null,
   "metadata": {},
   "outputs": [],
   "source": [
    "training_f = torch.tensor(training_f, dtype=torch.float32)\n",
    "training_l = torch.tensor(training_l.values, dtype=torch.float32).view(-1,1)\n",
    "testing_f = torch.tensor(testing_f, dtype=torch.float32)\n",
    "testing_l = torch.tensor(testing_l.values, dtype=torch.float32).view(-1,1)\n",
    "# testing_labels"
   ]
  },
  {
   "cell_type": "markdown",
   "metadata": {},
   "source": [
    "## Creating Data Loaders"
   ]
  },
  {
   "cell_type": "code",
   "execution_count": null,
   "metadata": {},
   "outputs": [],
   "source": [
    "from torch.utils.data import DataLoader, TensorDataset\n",
    "train_dataset = TensorDataset(training_f, training_l)\n",
    "testing_dataset = TensorDataset(testing_f, testing_l)\n",
    "training_loader = DataLoader(train_dataset, batch_size=32, shuffle=True)\n",
    "testing_loader = DataLoader(testing_dataset, batch_size=32, shuffle=True)\n",
    "testing_loader"
   ]
  },
  {
   "cell_type": "markdown",
   "metadata": {},
   "source": [
    "## Training Loop"
   ]
  },
  {
   "cell_type": "code",
   "execution_count": null,
   "metadata": {},
   "outputs": [],
   "source": [
    "from torch import optim\n",
    "\n",
    "optimizer = optim.Adam(model.parameters(), lr=0.01)\n",
    "criterion = nn.BCELoss()"
   ]
  },
  {
   "cell_type": "code",
   "execution_count": null,
   "metadata": {},
   "outputs": [],
   "source": [
    "num_of_epochs = 200\n",
    "\n",
    "for epoch in range(num_of_epochs):\n",
    "  model.train()\n",
    "  for features, labels in training_loader:\n",
    "    optimizer.zero_grad()\n",
    "    output = model(features.float())\n",
    "    loss = criterion(output, labels.view(-1, 1).float())\n",
    "    loss.backward()\n",
    "    optimizer.step()\n",
    "\n",
    "  print(f\"Epoch {epoch+1}/{num_of_epochs}, Loss: {loss.item()}\")"
   ]
  },
  {
   "cell_type": "code",
   "execution_count": null,
   "metadata": {},
   "outputs": [],
   "source": [
    "from torchmetrics import Accuracy\n",
    "\n",
    "accuracy = Accuracy(task='binary')\n",
    "\n",
    "model.eval()\n",
    "with torch.no_grad():\n",
    "  for features, labels in testing_loader:\n",
    "    output = model(features)\n",
    "    predicted = output.round()\n",
    "    accuracy.update(predicted, labels)\n",
    "\n",
    "print(f\"Accuracy: {accuracy.compute().item()}\")"
   ]
  }
 ],
 "metadata": {
  "kernelspec": {
   "display_name": "pytorch-env",
   "language": "python",
   "name": "python3"
  },
  "language_info": {
   "name": "python",
   "version": "3.10.12"
  }
 },
 "nbformat": 4,
 "nbformat_minor": 2
}
