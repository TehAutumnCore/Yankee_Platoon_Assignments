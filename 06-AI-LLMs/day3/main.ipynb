{
 "cells": [
  {
   "cell_type": "code",
   "execution_count": null,
   "metadata": {},
   "outputs": [],
   "source": [
    "import torch\n",
    "from torch import nn\n",
    "print(torch.__version__)"
   ]
  },
  {
   "cell_type": "code",
   "execution_count": null,
   "metadata": {},
   "outputs": [],
   "source": [
    "my_tensor = torch.tensor([8.316765884214679,214.37339408562252,22018.417440775294,8.05933237743854,356.88613564305666,363.2665161642437,18.436524495493302,100.34167436508008,4.628770536837084])\n",
    "\n",
    "input_layer = nn.Linear(9,18)\n",
    "\n",
    "print(input_layer(my_tensor))"
   ]
  },
  {
   "cell_type": "code",
   "execution_count": null,
   "metadata": {},
   "outputs": [],
   "source": [
    "hidden_layer_one = nn.Linear(18, 12)\n",
    "print(hidden_layer_one(input_layer(my_tensor)))\n",
    "\n",
    "# hidden_layer_one = nn.linear(18)\n",
    "# print(hidden_layer_one(input_layer(my_tensor)))\n",
    "# hiden_layer_two = nn.Linear(12,6)\n",
    "# print(hidden_layer_two(input_layer(my_tensor)))\n",
    "# hidden_layer_three = nn.Linear(6, 1)\n",
    "# print(hidden_layer_three(input_layer(my_tensor)))\n",
    "# activation_layer = nn.Sigmoid()\n",
    "\n",
    "# print(activation_layer(hidden_layer_three(hidden_layer_two(hidden_layer_one(input_layer(my_tensor))))))"
   ]
  },
  {
   "cell_type": "code",
   "execution_count": null,
   "metadata": {},
   "outputs": [],
   "source": [
    "hidden_layer_two = nn.Linear(12, 6)\n",
    "hidden_layer_three = nn.Linear(6, 1)\n",
    "activation_layer = nn.Sigmoid()\n",
    "\n",
    "print(activation_layer(hidden_layer_three(hidden_layer_two(hidden_layer_one(input_layer(my_tensor))))))"
   ]
  },
  {
   "cell_type": "markdown",
   "metadata": {},
   "source": [
    "## Neural Network Utilizing Sequential"
   ]
  },
  {
   "cell_type": "code",
   "execution_count": null,
   "metadata": {},
   "outputs": [],
   "source": [
    "model = nn.Sequential(\n",
    "  nn.Linear(9,18),\n",
    "  nn.Linear(18,12),\n",
    "  nn.Linear(12,6),\n",
    "  nn.Linear(6,1),\n",
    "  nn.Sigmoid()\n",
    ")\n",
    "\n",
    "prediction = model(my_tensor)\n",
    "prediction"
   ]
  },
  {
   "cell_type": "code",
   "execution_count": 1,
   "metadata": {},
   "outputs": [],
   "source": [
    "### Looking at Weights and Biases"
   ]
  },
  {
   "cell_type": "code",
   "execution_count": null,
   "metadata": {},
   "outputs": [],
   "source": [
    "for name, param in model.named_parameters():\n",
    "  if param.requires_grad:\n",
    "    print(name, param.data)"
   ]
  },
  {
   "cell_type": "markdown",
   "metadata": {},
   "source": [
    "## Creating a Model as a Class "
   ]
  },
  {
   "cell_type": "code",
   "execution_count": null,
   "metadata": {},
   "outputs": [],
   "source": [
    "class BinaryModel(nn.Module):\n",
    "    def __init__(self):\n",
    "        super(BinaryModel,self).__init__()\n",
    "        self.layer1 = nn.Linear(9,18) \n",
    "        self.layer2 = nn.Linear(18.12) \n",
    "        self.layer3 = nn.Linear(12,6) \n",
    "        self.layer4 = nn.Linear(6,1) \n",
    "        self.activation = nn.Sigmoid()\n",
    "    def forward(self, x): #input or x\n",
    "        x = self.layer1(x)\n",
    "        x = self.layer2(x)\n",
    "        x = self.layer3(x)\n",
    "        x = self.layer4(x)\n",
    "        return self.activation(x)\n",
    "    \n",
    "model = BinaryModel()\n",
    "    # output = model(my_tensor)\n",
    "    # output"
   ]
  },
  {
   "cell_type": "code",
   "execution_count": null,
   "metadata": {},
   "outputs": [],
   "source": [
    "# model[0]"
   ]
  },
  {
   "cell_type": "markdown",
   "metadata": {},
   "source": [
    "### Prep Model Parameters for Training"
   ]
  },
  {
   "cell_type": "code",
   "execution_count": null,
   "metadata": {},
   "outputs": [],
   "source": [
    "import torch.nn.init as init\n",
    "model.layer1.weight"
   ]
  },
  {
   "cell_type": "code",
   "execution_count": null,
   "metadata": {},
   "outputs": [],
   "source": [
    "init.xavier_uniform_(model.layer1.weight)\n",
    "init.zeros_(model.layer1.bias)\n",
    "# model.layer1.weight\n",
    "model.layer1.bias"
   ]
  },
  {
   "cell_type": "code",
   "execution_count": null,
   "metadata": {},
   "outputs": [],
   "source": [
    "for layer in model.modeules():\n",
    "    if isinstance(layer,nn.Linear):\n",
    "        print(\"weight\",layer.weight)\n",
    "        print(\"bias\",layer.bias)"
   ]
  },
  {
   "cell_type": "code",
   "execution_count": null,
   "metadata": {},
   "outputs": [],
   "source": [
    "for layer in model.modules():\n",
    "    # print(layer)\n",
    "  if isinstance(layer, nn.Linear):\n",
    "    init.xavier_uniform_(layer.weight)\n",
    "    init.zeros_(layer.bias)"
   ]
  },
  {
   "cell_type": "code",
   "execution_count": null,
   "metadata": {},
   "outputs": [],
   "source": [
    "for layer in model.modules():\n",
    "  if isinstance(layer, nn.Linear):\n",
    "    print(\"weight\",layer.weight)\n",
    "    print(\"bias\",layer.bias)"
   ]
  }
 ],
 "metadata": {
  "kernelspec": {
   "display_name": "pytorch-env",
   "language": "python",
   "name": "python3"
  },
  "language_info": {
   "codemirror_mode": {
    "name": "ipython",
    "version": 3
   },
   "file_extension": ".py",
   "mimetype": "text/x-python",
   "name": "python",
   "nbconvert_exporter": "python",
   "pygments_lexer": "ipython3",
   "version": "3.10.12"
  }
 },
 "nbformat": 4,
 "nbformat_minor": 2
}
